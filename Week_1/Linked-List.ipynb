{
 "cells": [
  {
   "cell_type": "code",
   "execution_count": 1,
   "metadata": {},
   "outputs": [],
   "source": [
    "## 創建獨立空間（空值）\n",
    "class Node:\n",
    "    def __init__(self,val=None):\n",
    "        self.val=val\n",
    "        self.next=None\n",
    "        \n",
    "class MyLinkedList:\n",
    "    def __init__(self):\n",
    "        \"\"\"\n",
    "        Initialize your data structure here.\n",
    "        \"\"\"\n",
    "        self.head=None\n",
    "        self.size=0\n",
    "    \n",
    "    ## 考慮因素\n",
    "    ## 1. 變數index可能小於 0,無法獲取該位置之值\n",
    "    ## 2. 變數index大於等於現有LinkedList長度,因此無法得到位置\n",
    "    def get(self, index: int):\n",
    "        \"\"\"\n",
    "        Get the value of the index-th node in the linked list. If the index is invalid, return -1.\n",
    "        \"\"\"\n",
    "        if index<0 or index>=self.size:\n",
    "            return -1\n",
    "        current=self.head\n",
    "        while(index>0):\n",
    "            current=current.next\n",
    "            index-=1\n",
    "        return current.val\n",
    "    \n",
    "    ## 考慮因素\n",
    "    ## 1. self.head可能已經存在,故插入於現有self.head前\n",
    "    ## 2. self.head可能為空值，因此建立節點空間作為LinkedList之第一位置（Head）\n",
    "    def addAtHead(self, val: int):\n",
    "        \"\"\"\n",
    "        Add a node of value val before the first element of the linked list. After the insertion, the new node will be the first node of the linked list.\n",
    "        \"\"\"\n",
    "        new=Node(val)\n",
    "        new.next=self.head\n",
    "        self.head=new\n",
    "        self.size+=1\n",
    "        return\n",
    "    \n",
    "    ## 考慮因素\n",
    "    ## 1. self.size等於0,目前無任何節點空間存在,因此直接建立節點空間\n",
    "    def addAtTail(self, val: int):\n",
    "        \"\"\"\n",
    "        Append a node of value val to the last element of the linked list.\n",
    "        \"\"\"\n",
    "        current=self.head\n",
    "        if self.size is 0:\n",
    "            current=Node(val)\n",
    "            self.size=1\n",
    "            return\n",
    "        while(current.next!=None):\n",
    "            current=current.next\n",
    "        current.next=Node(val)\n",
    "        self.size+=1\n",
    "        return\n",
    "\n",
    "    ## 考慮因素\n",
    "    ## 1. 變數index可能小於等於0,此時皆為0,並當作加入第一位置執行\n",
    "    ## 2. 變數index大於等於現有LinkedList長度,因此無法得到位置\n",
    "    def addAtIndex(self, index: int, val: int):\n",
    "        \"\"\"\n",
    "        Add a node of value val before the index-th node in the linked list. If index equals to the length of linked list, the node will be appended to the end of linked list. If index is greater than the length, the node will not be inserted.\n",
    "        \"\"\"\n",
    "        if index>self.size:\n",
    "            return\n",
    "        elif index<=0:\n",
    "            new=Node(val)\n",
    "            new.next=self.head\n",
    "            self.head=new\n",
    "            self.size+=1\n",
    "        else:\n",
    "            current=self.head\n",
    "            while(index>0):\n",
    "                prevNode=current\n",
    "                current=current.next\n",
    "                index-=1\n",
    "            new=Node(val)\n",
    "            prevNode.next=new\n",
    "            new.next=current\n",
    "            self.size+=1\n",
    "            return\n",
    "        \n",
    "    ## 考慮因素\n",
    "    ## 1. 可能要刪除之index小於0,因此不成立\n",
    "    ## 2. 變數index大於等於現有LinkedList長度,因此無法得到位置\n",
    "    ## 3. 現有self.size可能為0,故無節點空間存在,無法刪除\n",
    "    ## 4. 變數index為0時,且self.size大於0時,self.head值可被刪除 \n",
    "    def deleteAtIndex(self, index: int):\n",
    "        \"\"\"\n",
    "        Delete the index-th node in the linked list, if the index is valid.\n",
    "        \"\"\"\n",
    "        if index<0 or index>=self.size or self.size==0:\n",
    "            return\n",
    "        elif index==0:\n",
    "            self.head.val=None\n",
    "            self.head=self.head.next\n",
    "            self.size-=1\n",
    "            return\n",
    "        else:\n",
    "            current=self.head\n",
    "            self.size-=1\n",
    "            while(index>0):\n",
    "                prevNode=current\n",
    "                current=current.next\n",
    "                index-=1\n",
    "            prevNode.next=current.next\n",
    "            current=None\n",
    "            return "
   ]
  },
  {
   "cell_type": "code",
   "execution_count": 2,
   "metadata": {},
   "outputs": [],
   "source": [
    "MyLinkedList=MyLinkedList()\n",
    "MyLinkedList.addAtHead(1)\n",
    "MyLinkedList.addAtTail(3)\n",
    "MyLinkedList.addAtIndex(1, 2) # linked list becomes 1->2->3"
   ]
  },
  {
   "cell_type": "code",
   "execution_count": 3,
   "metadata": {},
   "outputs": [
    {
     "data": {
      "text/plain": [
       "2"
      ]
     },
     "execution_count": 3,
     "metadata": {},
     "output_type": "execute_result"
    }
   ],
   "source": [
    "MyLinkedList.get(1)        "
   ]
  },
  {
   "cell_type": "code",
   "execution_count": 4,
   "metadata": {},
   "outputs": [],
   "source": [
    "MyLinkedList.deleteAtIndex(1)  # now the linked list is 1->3"
   ]
  },
  {
   "cell_type": "code",
   "execution_count": 5,
   "metadata": {},
   "outputs": [
    {
     "data": {
      "text/plain": [
       "3"
      ]
     },
     "execution_count": 5,
     "metadata": {},
     "output_type": "execute_result"
    }
   ],
   "source": [
    "MyLinkedList.get(1)"
   ]
  }
 ],
 "metadata": {
  "kernelspec": {
   "display_name": "Python 3",
   "language": "python",
   "name": "python3"
  },
  "language_info": {
   "codemirror_mode": {
    "name": "ipython",
    "version": 3
   },
   "file_extension": ".py",
   "mimetype": "text/x-python",
   "name": "python",
   "nbconvert_exporter": "python",
   "pygments_lexer": "ipython3",
   "version": "3.6.9"
  }
 },
 "nbformat": 4,
 "nbformat_minor": 2
}

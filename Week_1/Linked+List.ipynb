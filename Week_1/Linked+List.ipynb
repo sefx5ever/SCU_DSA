{
 "cells": [
  {
   "cell_type": "code",
   "execution_count": null,
   "metadata": {},
   "outputs": [],
   "source": [
    "# 建立一個空間節點\n",
    "class Node:\n",
    "    # 將初始化參數用self.（pointer）存取\n",
    "    def __init__(self, data):\n",
    "        self.data = data\n",
    "        self.next = None # make None as the default value for next.\n",
    "    # 計算目前節點數量\n",
    "    def count_nodes(head):\n",
    "        # assuming that head != None\n",
    "        count = 1\n",
    "        current = head\n",
    "        while current.next is not None:\n",
    "            current = current.next\n",
    "            count += 1\n",
    "        return count"
   ]
  },
  {
   "cell_type": "code",
   "execution_count": null,
   "metadata": {},
   "outputs": [],
   "source": [
    "# 建立每個節點\n",
    "nodeA = Node(6)\n",
    "nodeB = Node(3)\n",
    "nodeC = Node(4)\n",
    "nodeD = Node(2)\n",
    "nodeE = Node(1)\n",
    "\n",
    "# 針對每個節點從頭串起來\n",
    "nodeA.next = nodeB\n",
    "nodeB.next = nodeC\n",
    "nodeC.next = nodeD\n",
    "nodeD.next = nodeE\n",
    "\n",
    "print(\"This linked list's length is: (should print 5)\")\n",
    "print(count_nodes(nodeA))"
   ]
  }
 ],
 "metadata": {
  "kernelspec": {
   "display_name": "Python 3",
   "language": "python",
   "name": "python3"
  },
  "language_info": {
   "codemirror_mode": {
    "name": "ipython",
    "version": 3
   },
   "file_extension": ".py",
   "mimetype": "text/x-python",
   "name": "python",
   "nbconvert_exporter": "python",
   "pygments_lexer": "ipython3",
   "version": "3.6.9"
  }
 },
 "nbformat": 4,
 "nbformat_minor": 2
}

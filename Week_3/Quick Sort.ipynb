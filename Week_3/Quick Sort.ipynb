{
 "cells": [
  {
   "cell_type": "code",
   "execution_count": 1,
   "metadata": {},
   "outputs": [],
   "source": [
    "class Solution:\n",
    "    def sortArray(self,a):\n",
    "        self.sortOperator(a,0,len(a)-1)\n",
    "        return a\n",
    "        \n",
    "    def sortOperator(self,a,low,high):\n",
    "        if low<high:\n",
    "            splitpoint=self.partition(a,low,high)\n",
    "            self.sortOperator(a,low,splitpoint-1)\n",
    "            self.sortOperator(a,splitpoint+1,high)\n",
    "            \n",
    "    def partition(self,a,low,high):\n",
    "        pivot=a[low]\n",
    "        left=low+1\n",
    "        right=high\n",
    "        done=False\n",
    "        \n",
    "        while not done:\n",
    "            while(left <= right and a[left] <= pivot):\n",
    "                left+=1\n",
    "                \n",
    "            while(a[right] >= pivot and right >= left):\n",
    "                right-=1\n",
    "                \n",
    "            if(left>right):\n",
    "                done=True\n",
    "            else:\n",
    "                a[left],a[right]=a[right],a[left]\n",
    "                \n",
    "        a[low],a[right]=a[right],a[low]\n",
    "        return right"
   ]
  },
  {
   "cell_type": "code",
   "execution_count": 2,
   "metadata": {},
   "outputs": [],
   "source": [
    "Solution=Solution()"
   ]
  },
  {
   "cell_type": "code",
   "execution_count": 3,
   "metadata": {},
   "outputs": [
    {
     "data": {
      "text/plain": [
       "[1, 2, 3, 5]"
      ]
     },
     "execution_count": 3,
     "metadata": {},
     "output_type": "execute_result"
    }
   ],
   "source": [
    "input_=[5,2,3,1]\n",
    "Solution.sortArray(input_)"
   ]
  }
 ],
 "metadata": {
  "kernelspec": {
   "display_name": "Python 3",
   "language": "python",
   "name": "python3"
  },
  "language_info": {
   "codemirror_mode": {
    "name": "ipython",
    "version": 3
   },
   "file_extension": ".py",
   "mimetype": "text/x-python",
   "name": "python",
   "nbconvert_exporter": "python",
   "pygments_lexer": "ipython3",
   "version": "3.6.9"
  }
 },
 "nbformat": 4,
 "nbformat_minor": 2
}

{
 "cells": [
  {
   "cell_type": "code",
   "execution_count": 1,
   "metadata": {},
   "outputs": [],
   "source": [
    "## 建立空間節點\n",
    "class Node:\n",
    "    def __init__(self,x):\n",
    "        self.x=x\n",
    "        self.next=None\n",
    "        \n",
    "## MinStack 以 LIFO 原則       \n",
    "class MinStack:\n",
    "    def __init__(self):\n",
    "        \"\"\"\n",
    "        initialize your data structure here.\n",
    "        \"\"\"\n",
    "        self.head=None\n",
    "        self.tail=None\n",
    "        self.min=None\n",
    "        self.size=0\n",
    "\n",
    "    ## 考慮因素：\n",
    "    ## 1. 若空間節點不存在，則新建節點\n",
    "    ## 2. 在新增同時，進行大小判斷\n",
    "    def push(self, x: int) -> None:\n",
    "        new=Node(x)   \n",
    "        if self.size==0:\n",
    "            self.head=new\n",
    "            self.tail=self.head\n",
    "            self.min=new.x\n",
    "        else:\n",
    "            self.head.next=new\n",
    "            self.head=new\n",
    "            if x < self.min:\n",
    "                self.min=x\n",
    "        self.size+=1\n",
    "        return\n",
    "    \n",
    "    ## 考慮因素\n",
    "    ## 1. 若空間節點不存在，則return -1\n",
    "    ## 2. 若節點長度為1，代表刪除後將歸None\n",
    "    ## 3. 若正常情況下，也將進行大小判斷\n",
    "    def pop(self) -> None:\n",
    "        if(self.size<=0):\n",
    "            return -1\n",
    "        elif(self.size==1):\n",
    "            self.tail=None\n",
    "            self.head=None\n",
    "            self.min =None\n",
    "            self.size=0\n",
    "            return\n",
    "        else:\n",
    "            current=self.tail\n",
    "            for num in range(self.size-1):\n",
    "                prev=current\n",
    "                current=current.next\n",
    "                if(num==self.size-2):\n",
    "                    if(num==0):\n",
    "                        if(prev.x>current.x):\n",
    "                            self.min=prev.x\n",
    "                        self.head=prev\n",
    "                    prev.next=None\n",
    "                    current=None\n",
    "                    self.head=prev\n",
    "                    self.size-=1\n",
    "                    return\n",
    "                if(num==0):\n",
    "                    if(prev.x<current.x):\n",
    "                        self.min=prev.x\n",
    "                    else:\n",
    "                        self.min=current.x\n",
    "                else:\n",
    "                    if(self.min>current.x):\n",
    "                        self.min=current.x\n",
    "\n",
    "                   \n",
    "    def top(self) -> int:\n",
    "        return self.head.x\n",
    "\n",
    "    def getMin(self) -> int:\n",
    "        return self.min"
   ]
  },
  {
   "cell_type": "code",
   "execution_count": 2,
   "metadata": {},
   "outputs": [],
   "source": [
    "MinStack=MinStack()\n",
    "MinStack.push(-2)\n",
    "MinStack.push(0)\n",
    "MinStack.push(-3)"
   ]
  },
  {
   "cell_type": "code",
   "execution_count": 3,
   "metadata": {},
   "outputs": [
    {
     "data": {
      "text/plain": [
       "-3"
      ]
     },
     "execution_count": 3,
     "metadata": {},
     "output_type": "execute_result"
    }
   ],
   "source": [
    "MinStack.getMin()"
   ]
  },
  {
   "cell_type": "code",
   "execution_count": 4,
   "metadata": {},
   "outputs": [],
   "source": [
    "MinStack.pop()"
   ]
  },
  {
   "cell_type": "code",
   "execution_count": 5,
   "metadata": {},
   "outputs": [
    {
     "data": {
      "text/plain": [
       "0"
      ]
     },
     "execution_count": 5,
     "metadata": {},
     "output_type": "execute_result"
    }
   ],
   "source": [
    "MinStack.top()"
   ]
  },
  {
   "cell_type": "code",
   "execution_count": 6,
   "metadata": {},
   "outputs": [
    {
     "data": {
      "text/plain": [
       "-2"
      ]
     },
     "execution_count": 6,
     "metadata": {},
     "output_type": "execute_result"
    }
   ],
   "source": [
    "MinStack.getMin()"
   ]
  }
 ],
 "metadata": {
  "kernelspec": {
   "display_name": "Python 3",
   "language": "python",
   "name": "python3"
  },
  "language_info": {
   "codemirror_mode": {
    "name": "ipython",
    "version": 3
   },
   "file_extension": ".py",
   "mimetype": "text/x-python",
   "name": "python",
   "nbconvert_exporter": "python",
   "pygments_lexer": "ipython3",
   "version": "3.6.9"
  }
 },
 "nbformat": 4,
 "nbformat_minor": 2
}

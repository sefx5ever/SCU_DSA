{
 "cells": [
  {
   "cell_type": "code",
   "execution_count": 1,
   "metadata": {},
   "outputs": [],
   "source": [
    "## 建立空間節點\n",
    "class Node:\n",
    "    def __init__(self,x):\n",
    "        self.x=x\n",
    "        self.next=None\n",
    "        \n",
    "## Queue以FIFO為原則        \n",
    "class MyQueue:\n",
    "    def __init__(self):\n",
    "        \"\"\"\n",
    "        Initialize your data structure here.\n",
    "        \"\"\"\n",
    "        self.head=None\n",
    "        self.tail=None\n",
    "    \n",
    "    ## 考慮因素：\n",
    "    ## 1. 若head不存在，代表需要建立第一項\n",
    "    def push(self, x: int) -> None:\n",
    "        \"\"\"\n",
    "        Push element x to the back of queue.\n",
    "        \"\"\"\n",
    "        new=Node(x)\n",
    "        if(self.head==None):\n",
    "            self.head=new\n",
    "            self.tail=new\n",
    "        else:\n",
    "            current=self.head\n",
    "            while(current.next!=None):\n",
    "                current=current.next\n",
    "            current.next=Node(x)\n",
    "            self.tail=current.next\n",
    "    \n",
    "    ## 考慮因素：\n",
    "    ## 1. \n",
    "    def pop(self) -> int:\n",
    "        \"\"\"\n",
    "        Removes the element from in front of queue and returns that element.\n",
    "        \"\"\"\n",
    "        if(self.head==None):\n",
    "            return -1\n",
    "        else:\n",
    "            current=self.head\n",
    "            to_return=self.head.x\n",
    "            if(current==self.tail):\n",
    "                self.head=None\n",
    "                self.tail=None\n",
    "            else:\n",
    "                self.head=current.next\n",
    "                current=None\n",
    "            return to_return\n",
    "\n",
    "    def peek(self) -> int:\n",
    "        \"\"\"\n",
    "        Get the front element.\n",
    "        \"\"\"\n",
    "        return self.head.x\n",
    "\n",
    "    def empty(self) -> bool:\n",
    "        \"\"\"\n",
    "        Returns whether the queue is empty.\n",
    "        \"\"\"\n",
    "        if(self.head==None):\n",
    "            return True\n",
    "        else:\n",
    "            return False"
   ]
  },
  {
   "cell_type": "code",
   "execution_count": 2,
   "metadata": {},
   "outputs": [],
   "source": [
    "MyQueue=MyQueue()\n",
    "MyQueue.push(1)\n",
    "MyQueue.push(2)"
   ]
  },
  {
   "cell_type": "code",
   "execution_count": 3,
   "metadata": {},
   "outputs": [
    {
     "data": {
      "text/plain": [
       "1"
      ]
     },
     "execution_count": 3,
     "metadata": {},
     "output_type": "execute_result"
    }
   ],
   "source": [
    "MyQueue.peek()"
   ]
  },
  {
   "cell_type": "code",
   "execution_count": 4,
   "metadata": {},
   "outputs": [
    {
     "data": {
      "text/plain": [
       "1"
      ]
     },
     "execution_count": 4,
     "metadata": {},
     "output_type": "execute_result"
    }
   ],
   "source": [
    "MyQueue.pop()"
   ]
  },
  {
   "cell_type": "code",
   "execution_count": 5,
   "metadata": {},
   "outputs": [
    {
     "data": {
      "text/plain": [
       "False"
      ]
     },
     "execution_count": 5,
     "metadata": {},
     "output_type": "execute_result"
    }
   ],
   "source": [
    "MyQueue.empty()"
   ]
  }
 ],
 "metadata": {
  "kernelspec": {
   "display_name": "Python 3",
   "language": "python",
   "name": "python3"
  },
  "language_info": {
   "codemirror_mode": {
    "name": "ipython",
    "version": 3
   },
   "file_extension": ".py",
   "mimetype": "text/x-python",
   "name": "python",
   "nbconvert_exporter": "python",
   "pygments_lexer": "ipython3",
   "version": "3.6.9"
  }
 },
 "nbformat": 4,
 "nbformat_minor": 2
}
